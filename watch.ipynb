{
 "cells": [
  {
   "cell_type": "code",
   "execution_count": 1,
   "id": "68ada8a8-ed5e-453f-a509-353834abbb2b",
   "metadata": {},
   "outputs": [],
   "source": [
    "from es6.Promise import Promise"
   ]
  },
  {
   "cell_type": "code",
   "execution_count": 2,
   "id": "1b72dd0f-17c0-4a27-bf2f-79881f9eb14c",
   "metadata": {},
   "outputs": [],
   "source": [
    "from watch import watch\n",
    "from reactive import reactive\n",
    "from es6.Array import Array\n",
    "from es6.Object import Object"
   ]
  },
  {
   "cell_type": "code",
   "execution_count": 3,
   "id": "33501435-0488-4663-b547-ab74fc23204b",
   "metadata": {},
   "outputs": [
    {
     "name": "stdout",
     "output_type": "stream",
     "text": [
      "before watch\n",
      "dddd\n",
      "dowatch run\n",
      "埋点 <ReactiveEffect.ReactiveEffect object at 0x7f98ce6350c0>\n",
      "run source getter\n",
      "source get Object:{} count\n",
      "reactive track 140294274370960\n",
      "track eventInfo 140294274370960\n",
      "set newly tracked True\n",
      "_shouldTrack 期望True True\n",
      "add effect 140294274371776\n",
      "self.fn() 1\n",
      "run source getter\n",
      "source get Object:{} count\n",
      "reactive track 140294274370960\n",
      "track eventInfo 140294274370960\n",
      "_shouldTrack 期望True False\n",
      "after watch\n",
      "reactive set 140294274370960 Object:{} count 3\n",
      "source get Object:{} __v_raw\n",
      "触发 140294274370960\n",
      "triggerEffect 140294274371776\n",
      "run effect <function doWatch.<locals>.scheduler at 0x7f98ce6427a0>\n",
      "scheduler\n"
     ]
    }
   ],
   "source": [
    "obj1 = reactive(Object({\n",
    "    'count': 1,\n",
    "    'arr': Array([1, 2, 3])\n",
    "}))\n",
    "print('before watch')\n",
    "def getter():\n",
    "    print('run source getter')\n",
    "    return obj1.count\n",
    "watch(getter, lambda: print(f\"watch成功！！！\")) \n",
    "print('after watch')\n",
    "obj1.count = 3"
   ]
  },
  {
   "cell_type": "code",
   "execution_count": null,
   "id": "91568832-65ca-4d99-b685-f7564ad67f65",
   "metadata": {},
   "outputs": [],
   "source": []
  }
 ],
 "metadata": {
  "kernelspec": {
   "display_name": "Python 3 (ipykernel)",
   "language": "python",
   "name": "python3"
  },
  "language_info": {
   "codemirror_mode": {
    "name": "ipython",
    "version": 3
   },
   "file_extension": ".py",
   "mimetype": "text/x-python",
   "name": "python",
   "nbconvert_exporter": "python",
   "pygments_lexer": "ipython3",
   "version": "3.10.9"
  }
 },
 "nbformat": 4,
 "nbformat_minor": 5
}
