{
 "cells": [
  {
   "cell_type": "code",
   "execution_count": 10,
   "id": "e2f3d930-abb7-4a7f-88c3-aad4d05b8ef1",
   "metadata": {},
   "outputs": [],
   "source": [
    "from Promise import Promise, setTimeout"
   ]
  },
  {
   "cell_type": "code",
   "execution_count": 11,
   "id": "91b903bd-d4a2-459a-a4ae-aaa2e14a2593",
   "metadata": {},
   "outputs": [
    {
     "name": "stdout",
     "output_type": "stream",
     "text": [
      "beforeResolve promiseAsync\n",
      "beforeResolve promiseSync\n",
      "beforeResolve nestedPromise\n",
      "beforeResolve thenable\n",
      "beforeResolve nestedThenable\n",
      "testRes1:nestedPromise\n",
      "testRes1:promiseSync\n",
      "testRes1:thenable\n",
      "testRes1:nestedThenable\n",
      "testRes1:normalValue\n",
      "testRes1:promiseAsync\n"
     ]
    }
   ],
   "source": [
    "promiseAsync = Promise(lambda resolve, reject: (\n",
    "    print('beforeResolve promiseAsync'),\n",
    "    setTimeout(lambda: resolve('promiseAsync'), 100)\n",
    "))\n",
    "\n",
    "#  同步的promise\n",
    "promiseSync = Promise(lambda resolve, reject: (\n",
    "    print('beforeResolve promiseSync'),\n",
    "    resolve(\"promiseSync\")\n",
    "))\n",
    "\n",
    "#  嵌套的promise\n",
    "nestedPromise = Promise(lambda outerResolve, outerReject:(\n",
    "    print('beforeResolve nestedPromise'),\n",
    "    outerResolve(\n",
    "        Promise(lambda innerResolve, innerReject: innerResolve(\"nestedPromise\"))\n",
    "    )\n",
    "))\n",
    "\n",
    "#  thenable\n",
    "thenable = {\n",
    "\"then\": lambda resolve, reject: (\n",
    "    print('beforeResolve thenable'),\n",
    "    resolve(\"thenable\")\n",
    ")\n",
    "}\n",
    "\n",
    "#  嵌套的thenable\n",
    "nestedThenable = {\n",
    "\"then\": lambda outerResolve, outerReject:(\n",
    "        print('beforeResolve nestedThenable'),\n",
    "        outerResolve({\n",
    "        \"then\": lambda innerResolve, innerReject: innerResolve(\"nestedThenable\")\n",
    "        })\n",
    "    )\n",
    "}\n",
    "\n",
    "#  普通值\n",
    "normalValue = \"normalValue\"\n",
    "\n",
    "#  对于上面每一个变量作为`Promise`的决议值进行决议，打印决议结果\n",
    "list1 = [\n",
    "promiseAsync,\n",
    "promiseSync,\n",
    "nestedPromise,\n",
    "thenable,\n",
    "nestedThenable,\n",
    "normalValue,\n",
    "]\n",
    "for obj in list1:\n",
    "    Promise(lambda resolve, reject: resolve(obj)).then(lambda value: print(f\"testRes1:{value}\"), None)\n",
    "# 浏览器结果\n",
    "# beforeResolve promiseAsync\n",
    "# beforeResolve promiseSync\n",
    "# beforeResolve nestedPromise\n",
    "# beforeResolve thenable\n",
    "# beforeResolve nestedThenable\n",
    "\n",
    "# normalValue\n",
    "# thenable\n",
    "# promiseSync\n",
    "# nestedThenable\n",
    "# nestedPromise\n",
    "# promiseAsync\n"
   ]
  },
  {
   "cell_type": "code",
   "execution_count": 12,
   "id": "0fe44670-93c5-49d5-94b9-599b22b04495",
   "metadata": {},
   "outputs": [
    {
     "name": "stdout",
     "output_type": "stream",
     "text": [
      "Python 3.10.9\n"
     ]
    }
   ],
   "source": [
    "!python --version"
   ]
  },
  {
   "cell_type": "code",
   "execution_count": 13,
   "id": "8a88de4d-dce9-4f88-a396-a3f412c1b6c9",
   "metadata": {},
   "outputs": [
    {
     "name": "stdout",
     "output_type": "stream",
     "text": [
      "beforeResolve promiseAsync\n",
      "beforeResolve promiseSync\n",
      "beforeResolve nestedPromise\n",
      "Traceback (most recent call last):\n",
      "  File \"/Users/zhubochao/Desktop/try/reactivityV3/es6/Promise.py\", line 356, in <module>\n",
      "    Promise(lambda resolve, reject: resolve(obj)).then(lambda value: print(f\"testRes1:{value}\"), None)\n",
      "  File \"/Users/zhubochao/Desktop/try/reactivityV3/es6/Promise.py\", line 282, in then\n",
      "    p1 = Promise(innerInitTask, self)\n",
      "  File \"/Users/zhubochao/Desktop/try/reactivityV3/es6/Promise.py\", line 215, in __init__\n",
      "    setTimeout(__runInitTask)\n",
      "  File \"/Users/zhubochao/Desktop/try/reactivityV3/es6/Promise.py\", line 11, in setTimeout\n",
      "    task = asyncio.create_task(createCoroutineByFunc(func, mesc))\n",
      "  File \"/Users/zhubochao/anaconda3/lib/python3.10/asyncio/tasks.py\", line 336, in create_task\n",
      "    loop = events.get_running_loop()\n",
      "RuntimeError: no running event loop\n",
      "sys:1: RuntimeWarning: coroutine 'createCoroutineByFunc' was never awaited\n"
     ]
    }
   ],
   "source": [
    "!python Promise.py"
   ]
  },
  {
   "cell_type": "code",
   "execution_count": null,
   "id": "9ce94604-b0e7-4ee1-813b-7e1d1ff6f730",
   "metadata": {},
   "outputs": [],
   "source": []
  }
 ],
 "metadata": {
  "kernelspec": {
   "display_name": "Python 3 (ipykernel)",
   "language": "python",
   "name": "python3"
  },
  "language_info": {
   "codemirror_mode": {
    "name": "ipython",
    "version": 3
   },
   "file_extension": ".py",
   "mimetype": "text/x-python",
   "name": "python",
   "nbconvert_exporter": "python",
   "pygments_lexer": "ipython3",
   "version": "3.10.9"
  }
 },
 "nbformat": 4,
 "nbformat_minor": 5
}
